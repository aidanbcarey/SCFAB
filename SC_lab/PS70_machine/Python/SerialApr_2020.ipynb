{
 "cells": [
  {
   "cell_type": "code",
   "execution_count": 3,
   "metadata": {
    "collapsed": false
   },
   "outputs": [],
   "source": [
    "#send a string of characters directly\n",
    "import serial\n",
    "ser = serial.Serial('/dev/tty.usbmodem143141') \n",
    "\n",
    "ser.write(b'255,10,254,45')\n",
    "ser.close() \n"
   ]
  },
  {
   "cell_type": "markdown",
   "metadata": {},
   "source": [
    "Code above sends a string to this machine.  The machine is documented in https://roberthart56.github.io/SCFAB/SC_lab/PS70_machine/index_rev1.html\n",
    "\n",
    "<img src=\"./machine_pic.jpg\"width = \"200\" />\n",
    "\n",
    " "
   ]
  },
  {
   "cell_type": "code",
   "execution_count": null,
   "metadata": {
    "collapsed": false
   },
   "outputs": [],
   "source": [
    "#write string from array of numbers, one number at a time.\n",
    "\n",
    "import serial\n",
    "import time\n",
    "import numpy as np\n",
    "\n",
    "ser = serial.Serial('/dev/tty.usbmodem143141') \n",
    "\n",
    "array_1 = np.array([255,10])\n",
    "\n",
    "for index in [0,1]:\n",
    "    sring=str(array_1[index])\n",
    "    ser.write(sring.encode())\n",
    "    ser.write(b',')\n",
    "    print(sring)\n",
    "ser.close() \n",
    "print(array_1)"
   ]
  },
  {
   "cell_type": "code",
   "execution_count": null,
   "metadata": {
    "collapsed": false
   },
   "outputs": [],
   "source": [
    "'''\n",
    "Expand to four elements.\n",
    "Put string together from stringifying four array elements, with commas.\n",
    "This works.\n",
    "\n",
    "'''\n",
    "import serial\n",
    "import time\n",
    "import numpy as np\n",
    "\n",
    "ser = serial.Serial('/dev/tty.usbmodem143141') \n",
    "\n",
    "array_1 = np.array([255,10, 254,30])\n",
    "string_to_send = \"\"\n",
    "for index in range(4):\n",
    "    string_to_send += str(array_1[index])\n",
    "    if (index<3):\n",
    "        string_to_send += \",\"\n",
    "    \n",
    "ser.write(string_to_send.encode())\n",
    "ser.close()\n",
    "\n",
    "print('string_to_send',string_to_send)\n",
    "\n",
    "print(array_1)"
   ]
  },
  {
   "cell_type": "code",
   "execution_count": 9,
   "metadata": {
    "collapsed": false
   },
   "outputs": [
    {
     "name": "stdout",
     "output_type": "stream",
     "text": [
      "string_to_send 255, 5 ,254, 0\n",
      "string_to_send 255, 5 ,254, 5\n",
      "string_to_send 255, -5 ,254, 10\n",
      "string_to_send 255, -5 ,254, 15\n"
     ]
    }
   ],
   "source": [
    "'''\n",
    "Now put string together from arrays of steps and angles.\n",
    "In the form: 255, steps, 254, angle\n",
    "\n",
    "'''\n",
    "import serial\n",
    "import time\n",
    "import numpy as np\n",
    "\n",
    "ser = serial.Serial('/dev/tty.usbmodem143141') \n",
    "step_array = np.array([5,5,-5,-5])\n",
    "angle_array = np.array([0,5,10,15])\n",
    "\n",
    "for ind_1 in range(4):\n",
    "    string_to_send = \"255, \"\n",
    "    string_to_send += str(step_array[ind_1])\n",
    "    string_to_send += \" ,254, \"\n",
    "    string_to_send += str(angle_array[ind_1])\n",
    "    ser.write(string_to_send.encode())\n",
    "    time.sleep(1)\n",
    "    print('string_to_send',string_to_send)\n",
    "    \n",
    "ser.close()\n",
    "\n"
   ]
  },
  {
   "cell_type": "code",
   "execution_count": 35,
   "metadata": {
    "collapsed": false
   },
   "outputs": [
    {
     "name": "stdout",
     "output_type": "stream",
     "text": [
      "[0 8 8 8]\n"
     ]
    }
   ],
   "source": [
    "\n",
    "#This is working out the details of calculating stepp array from theta array.\n",
    "#includes rounding and turning into integer array.\n",
    "\n",
    "import numpy as np\n",
    "\n",
    "theta_array = np.array([0,15,30,45])\n",
    "step_array = np.zeros(theta_array.size)    #initialize array for steps.\n",
    "\n",
    "\n",
    "step_array[0] = 0\n",
    "for i in range(1,theta_array.size):\n",
    "    step_array[i] = (theta_array[i] - theta_array[i-1])*200/360\n",
    "\n",
    "step_array = (np.round(step_array))\n",
    "step_array = step_array.astype(int)   \n",
    "   \n",
    "print(step_array)\n"
   ]
  },
  {
   "cell_type": "code",
   "execution_count": 41,
   "metadata": {
    "collapsed": false
   },
   "outputs": [
    {
     "name": "stdout",
     "output_type": "stream",
     "text": [
      "[12 14 17 24]\n"
     ]
    }
   ],
   "source": [
    "#work out converting r to servo angle.\n",
    "import numpy as np\n",
    "R = 10\n",
    "r_array = np.array([2,2.5,3.0,4.0])     # r is radius to be converted to servo angle.\n",
    "angle_array = np.arcsin(r_array/R)*(360/2/np.pi)\n",
    "angle_array = np.round(angle_array)\n",
    "angle_array = angle_array.astype(int)  #here's the step array to send to machine.\n",
    "\n",
    "print(angle_array)"
   ]
  },
  {
   "cell_type": "code",
   "execution_count": 44,
   "metadata": {
    "collapsed": false
   },
   "outputs": [
    {
     "name": "stdout",
     "output_type": "stream",
     "text": [
      "string_to_send 255, 0 ,254, 20\n",
      "string_to_send 255, 8 ,254, 26\n",
      "string_to_send 255, 8 ,254, 31\n",
      "string_to_send 255, 8 ,254, 44\n"
     ]
    }
   ],
   "source": [
    "'''\n",
    "Now derive the steps and angles from arrays of:\n",
    "theta:  to be translated into steps \n",
    "r:  to be turned into a servo angle. (this would be exact\n",
    "if R of servo arm were infinite.)\n",
    "\n",
    "'''\n",
    "import serial\n",
    "import time\n",
    "import numpy as np\n",
    "\n",
    "ser = serial.Serial('/dev/tty.usbmodem143141')\n",
    "R = 5.8    #mm radius of servo arm.\n",
    "theta_array = np.array([0,15,30,45])    #theta corresponds to angle between point and y-axis.\n",
    "r_array = np.array([2,2.5,3.0,4.0])     # r is radius to be converted to servo angle.\n",
    "\n",
    "step_array = np.zeros(theta_array.size)    #initialize array for steps.\n",
    "angle_array = np.zeros(theta_array.size)    #initialize array for servo angles.\n",
    "\n",
    "#Now work on step array\n",
    "step_array[0] = 0\n",
    "for i in range(1,theta_array.size):\n",
    "    step_array[i] = (theta_array[i] - theta_array[i-1])*200/360\n",
    "\n",
    "step_array = (np.round(step_array))\n",
    "step_array = step_array.astype(int)  #here's the step array to send to machine.\n",
    "\n",
    "#Now work on angle array\n",
    "\n",
    "angle_array = np.arcsin(r_array/R)*(360/2/np.pi)\n",
    "angle_array = np.round(angle_array)\n",
    "angle_array = angle_array.astype(int)  #here's the step array to send to machine.\n",
    "\n",
    "for ind_1 in range(4):\n",
    "    string_to_send = \"255, \"\n",
    "    string_to_send += str(step_array[ind_1])\n",
    "    string_to_send += \" ,254, \"\n",
    "    string_to_send += str(angle_array[ind_1])\n",
    "    ser.write(string_to_send.encode())\n",
    "    time.sleep(1)\n",
    "    print('string_to_send',string_to_send)\n",
    "    \n",
    "ser.close()\n",
    "\n"
   ]
  },
  {
   "cell_type": "code",
   "execution_count": 82,
   "metadata": {
    "collapsed": false
   },
   "outputs": [
    {
     "name": "stdout",
     "output_type": "stream",
     "text": [
      "[ 0.46364761  0.98279372  1.19028995  1.29249667]\n",
      "[ 63.43494882  33.69006753  21.80140949  15.9453959 ]\n",
      "[ 11.18033989  18.02775638  26.92582404  36.40054945]\n",
      "4\n"
     ]
    }
   ],
   "source": [
    "\n",
    "#work out array arithmnetic for converting x,y to r, theta, x,y >0\n",
    "\n",
    "import numpy as np\n",
    "\n",
    "R = 58    #mm radius of servo arm.\n",
    "\n",
    "\n",
    "x_array = np.array([10,10,10,10])\n",
    "y_array = np.array([5,15,25,35])\n",
    "array_size = x_array.size\n",
    "\n",
    "theta_array = np.arctan(y_array/x_array)    #theta corresponds to angle between point and x-axis in radians.\n",
    "gamma_array = 90 - theta_array*360/2/np.pi    #gamma is the angle through which the stepper steps to get to the point.\n",
    "\n",
    "r_array = np.sqrt((x_array)**2 + y_array**2)     # r is radius to be converted to servo angle.\n",
    "\n",
    "print(theta_array)\n",
    "print(gamma_array)\n",
    "\n",
    "print (r_array)\n",
    "print(array_size)"
   ]
  },
  {
   "cell_type": "code",
   "execution_count": 66,
   "metadata": {
    "collapsed": false
   },
   "outputs": [
    {
     "name": "stdout",
     "output_type": "stream",
     "text": [
      "string_to_send 255, 0 ,254, 11\n",
      "string_to_send 255, -17 ,254, 18\n",
      "string_to_send 255, -7 ,254, 28\n",
      "string_to_send 255, -3 ,254, 39\n"
     ]
    }
   ],
   "source": [
    "'''\n",
    "Now start with x and y arrays.  Assume R is infinite, so that calculation\n",
    "is same as for regular polar coordinates.\n",
    "\n",
    "\n",
    "'''\n",
    "import serial\n",
    "import time\n",
    "import numpy as np\n",
    "\n",
    "ser = serial.Serial('/dev/tty.usbmodem143141')\n",
    "R = 58    #mm radius of servo arm.\n",
    "\n",
    "x_array = np.array([10,10,10,10])\n",
    "y_array = np.array([5,15,25,35])\n",
    "array_size = x_array.size\n",
    "\n",
    "theta_array = np.arctan(y_array/x_array)    #theta corresponds to angle between point and x-axis in radians.\n",
    "gamma_array = 90 - theta_array*360/2/np.pi    #gamma is the angle through which the stepper steps to get to the point.\n",
    "\n",
    "r_array = np.sqrt((x_array)**2 + y_array**2)     # r is radius to be converted to servo angle.\n",
    "\n",
    "\n",
    "step_array = np.zeros(array_size)    #initialize array for steps.\n",
    "angle_array = np.zeros(array_size)    #initialize array for servo angles.\n",
    "\n",
    "#Now work on step array\n",
    "step_array[0] = 0\n",
    "for i in range(1,array_size):\n",
    "    step_array[i] = (gamma_array[i] - gamma_array[i-1])*200/360\n",
    "\n",
    "step_array = (np.round(step_array))\n",
    "step_array = step_array.astype(int)  #here's the step array to send to machine.\n",
    "\n",
    "#Now work on angle array\n",
    "\n",
    "angle_array = np.arcsin(r_array/R)*(360/2/np.pi)\n",
    "angle_array = np.round(angle_array)\n",
    "angle_array = angle_array.astype(int)  #here's the step array to send to machine.\n",
    "\n",
    "for ind_1 in range(4):\n",
    "    string_to_send = \"255, \"\n",
    "    string_to_send += str(step_array[ind_1])\n",
    "    string_to_send += \" ,254, \"\n",
    "    string_to_send += str(angle_array[ind_1])\n",
    "    ser.write(string_to_send.encode())\n",
    "    time.sleep(1)\n",
    "    print('string_to_send',string_to_send)\n",
    "    \n",
    "ser.close()\n",
    "\n"
   ]
  },
  {
   "cell_type": "markdown",
   "metadata": {},
   "source": [
    "Markdown cell."
   ]
  },
  {
   "cell_type": "code",
   "execution_count": 88,
   "metadata": {
    "collapsed": false
   },
   "outputs": [
    {
     "name": "stdout",
     "output_type": "stream",
     "text": [
      "string_to_send, number 0 : 255, 0 ,254, 10\n",
      "string_to_send, number 1 : 255, -3 ,254, 10\n",
      "string_to_send, number 2 : 255, -3 ,254, 10\n",
      "string_to_send, number 3 : 255, -3 ,254, 10\n",
      "string_to_send, number 4 : 255, -3 ,254, 11\n",
      "string_to_send, number 5 : 255, -3 ,254, 11\n",
      "string_to_send, number 6 : 255, -2 ,254, 12\n"
     ]
    },
    {
     "ename": "KeyboardInterrupt",
     "evalue": "",
     "output_type": "error",
     "traceback": [
      "\u001b[0;31m---------------------------------------------------------------------------\u001b[0m",
      "\u001b[0;31mKeyboardInterrupt\u001b[0m                         Traceback (most recent call last)",
      "\u001b[0;32m<ipython-input-88-bf4b367dcdaa>\u001b[0m in \u001b[0;36m<module>\u001b[0;34m()\u001b[0m\n\u001b[1;32m     45\u001b[0m     \u001b[0mstring_to_send\u001b[0m \u001b[0;34m+=\u001b[0m \u001b[0mstr\u001b[0m\u001b[0;34m(\u001b[0m\u001b[0mangle_array\u001b[0m\u001b[0;34m[\u001b[0m\u001b[0mind_1\u001b[0m\u001b[0;34m]\u001b[0m\u001b[0;34m)\u001b[0m\u001b[0;34m\u001b[0m\u001b[0m\n\u001b[1;32m     46\u001b[0m     \u001b[0mser\u001b[0m\u001b[0;34m.\u001b[0m\u001b[0mwrite\u001b[0m\u001b[0;34m(\u001b[0m\u001b[0mstring_to_send\u001b[0m\u001b[0;34m.\u001b[0m\u001b[0mencode\u001b[0m\u001b[0;34m(\u001b[0m\u001b[0;34m)\u001b[0m\u001b[0;34m)\u001b[0m\u001b[0;34m\u001b[0m\u001b[0m\n\u001b[0;32m---> 47\u001b[0;31m     \u001b[0mtime\u001b[0m\u001b[0;34m.\u001b[0m\u001b[0msleep\u001b[0m\u001b[0;34m(\u001b[0m\u001b[0;36m2\u001b[0m\u001b[0;34m)\u001b[0m\u001b[0;34m\u001b[0m\u001b[0m\n\u001b[0m\u001b[1;32m     48\u001b[0m     \u001b[0mprint\u001b[0m\u001b[0;34m(\u001b[0m\u001b[0;34m'string_to_send, number'\u001b[0m\u001b[0;34m,\u001b[0m \u001b[0mind_1\u001b[0m\u001b[0;34m,\u001b[0m\u001b[0;34m\":\"\u001b[0m\u001b[0;34m,\u001b[0m\u001b[0mstring_to_send\u001b[0m\u001b[0;34m)\u001b[0m\u001b[0;34m\u001b[0m\u001b[0m\n\u001b[1;32m     49\u001b[0m \u001b[0;34m\u001b[0m\u001b[0m\n",
      "\u001b[0;31mKeyboardInterrupt\u001b[0m: "
     ]
    }
   ],
   "source": [
    "'''\n",
    "Now start with x and y arrays.  Assume R is infinite, so that calculation\n",
    "is same as for regular polar coordinates.\n",
    "\n",
    "\n",
    "'''\n",
    "import serial\n",
    "import time\n",
    "import numpy as np\n",
    "\n",
    "ser = serial.Serial('/dev/tty.usbmodem143141')\n",
    "R = 58    #mm radius of servo arm.\n",
    "\n",
    "x_array = 10*np.ones(40)\n",
    "y_array = y= np.arange(0,40)\n",
    "array_size = x_array.size\n",
    "\n",
    "theta_array = np.arctan(y_array/x_array)    #theta corresponds to angle between point and x-axis in radians.\n",
    "gamma_array = 90 - theta_array*360/2/np.pi    #gamma is the angle through which the stepper steps to get to the point.\n",
    "\n",
    "r_array = np.sqrt((x_array)**2 + y_array**2)     # r is radius to be converted to servo angle.\n",
    "\n",
    "\n",
    "step_array = np.zeros(array_size)    #initialize array for steps.\n",
    "angle_array = np.zeros(array_size)    #initialize array for servo angles.\n",
    "\n",
    "#Now work on step array\n",
    "step_array[0] = 0\n",
    "for i in range(1,array_size):\n",
    "    step_array[i] = (gamma_array[i] - gamma_array[i-1])*200/360\n",
    "\n",
    "step_array = (np.round(step_array))\n",
    "step_array = step_array.astype(int)  #here's the step array to send to machine.\n",
    "\n",
    "#Now work on angle array\n",
    "\n",
    "angle_array = np.arcsin(r_array/R)*(360/2/np.pi)\n",
    "angle_array = np.round(angle_array)\n",
    "angle_array = angle_array.astype(int)  #here's the step array to send to machine.\n",
    "\n",
    "for ind_1 in range(array_size):\n",
    "    string_to_send = \"255, \"\n",
    "    string_to_send += str(step_array[ind_1])\n",
    "    string_to_send += \" ,254, \"\n",
    "    string_to_send += str(angle_array[ind_1])\n",
    "    ser.write(string_to_send.encode())\n",
    "    time.sleep(2)\n",
    "    print('string_to_send, number', ind_1,\":\",string_to_send)\n",
    "    \n",
    "ser.close()\n",
    "\n"
   ]
  },
  {
   "cell_type": "code",
   "execution_count": null,
   "metadata": {
    "collapsed": false
   },
   "outputs": [],
   "source": [
    "'''\n",
    "Now start with x and y arrays.  Assume R is infinite, so that calculation\n",
    "is same as for regular polar coordinates.\n",
    "\n",
    "Adjust method of rounding step size. First round, then take deltas, so that steps don't go to zero.\n",
    "\n",
    "See output for this program in fig01.  x=10mm line is approximated by a curve due to finite radius of\n",
    "servomotor arm.\n",
    "\n",
    "'''\n",
    "import serial\n",
    "import time\n",
    "import numpy as np\n",
    "\n",
    "ser = serial.Serial('/dev/tty.usbmodem143141')\n",
    "R = 58    #mm radius of servo arm.\n",
    "\n",
    "x_array = 10*np.ones(40)\n",
    "y_array = np.arange(0,40)\n",
    "array_size = x_array.size\n",
    "\n",
    "theta_array = np.arctan(y_array/x_array)    #theta corresponds to angle between point and x-axis in radians.\n",
    "gamma_array = 90 - theta_array*360/2/np.pi    #gamma is the angle through which the stepper steps to get to the point.\n",
    "\n",
    "r_array = np.sqrt((x_array)**2 + y_array**2)     # r is radius to be converted to servo angle.\n",
    "\n",
    "\n",
    "step_array = np.zeros(array_size)    #initialize array for steps.\n",
    "angle_array = np.zeros(array_size)    #initialize array for servo angles.\n",
    "\n",
    "#Now work on step array\n",
    "gamma_array = gamma_array - gamma_array[0]    #start at first angle\n",
    "total_step_array = gamma_array*200/360    #convert to total steps.\n",
    "total_step_array = np.round(total_step_array)  #round to integers.\n",
    "\n",
    "step_array[0] = 0\n",
    "for i in range(1,array_size):\n",
    "    step_array[i] = total_step_array[i] - total_step_array[i-1]   #takes delta between total step values.\n",
    "\n",
    "\n",
    "step_array = step_array.astype(int)  #here's the step array to send to machine.\n",
    "\n",
    "#Now work on angle array\n",
    "\n",
    "angle_array = np.arcsin(r_array/R)*(360/2/np.pi)\n",
    "angle_array = np.round(angle_array)\n",
    "angle_array = angle_array.astype(int)  #here's the step array to send to machine.\n",
    "\n",
    "for ind_1 in range(array_size):\n",
    "    string_to_send = \"255, \"\n",
    "    string_to_send += str(step_array[ind_1])\n",
    "    string_to_send += \" ,254, \"\n",
    "    string_to_send += str(angle_array[ind_1])\n",
    "    ser.write(string_to_send.encode())\n",
    "    time.sleep(2)\n",
    "    print('string_to_send, number', ind_1,\":\",string_to_send)\n",
    "    \n",
    "ser.close()\n",
    "# print(x_array)\n",
    "# print(y_array)\n",
    "# print(theta_array)\n",
    "# print(gamma_array)\n",
    "# print(step_array)\n"
   ]
  },
  {
   "cell_type": "markdown",
   "metadata": {},
   "source": [
    "The code above calculates a curve for the line x=10mm from y=0 to y=40 mm.  Since the servo arm is not infinite, the servo angle does not translate exactly to radial distance from center. Rather than plotting a straight line for x=const, the line curves away from the y-axis, as expected.\n",
    "\n",
    "<img src=\"./x=const.jpg\" width = \"400\" />\n"
   ]
  },
  {
   "cell_type": "markdown",
   "metadata": {},
   "source": [
    "Here is a sketch of the setup, showing the geometry used to calculate the proper servo angle and step number for a given x,y point.  The code below incoporates these calculations.\n",
    "\n",
    "<img src=\"./sketch.jpg\" width = \"400\" />"
   ]
  },
  {
   "cell_type": "code",
   "execution_count": null,
   "metadata": {
    "collapsed": false
   },
   "outputs": [],
   "source": [
    "'''\n",
    "Startingg from program above, add calculations for finite arm.  See sketch of page above with algebra!  This is a mess, and\n",
    "will probably contain errors! Actually not as many as expected.  With some minor edits, it works.  See below.  \n",
    "'''\n",
    "import serial\n",
    "import time\n",
    "import numpy as np\n",
    "\n",
    "ser = serial.Serial('/dev/tty.usbmodem143141')\n",
    "R = 58    #mm radius of servo arm.\n",
    "\n",
    "x_array = 10*np.ones(40)\n",
    "y_array = np.arange(0,40)\n",
    "array_size = x_array.size\n",
    "step_array = np.zeros(array_size)    #initialize array for steps.\n",
    "angle_array = np.zeros(array_size)    #initialize array for servo angles.\n",
    "\n",
    "\n",
    "theta_array = np.arctan(y_array/x_array)    #theta corresponds to angle between point and x-axis in radians.\n",
    "r_array = np.sqrt((x_array)**2 + y_array**2)     # r is radius to be converted to servo angle.\n",
    "\n",
    "x_1_array = r_array**2/2/R   #x1 is the x-coord of the desired intersection point of the two circles.\n",
    "y_1_array = np.sqrt(r_array**2-x_1_array**2)    #y1 is the x-coord of the desired intersection point.\n",
    "\n",
    "alpha_array = np.arctan(y_1_array/x_1_array)    #alpha corresponds to angle between intersection point and x-axis in radians.\n",
    "\n",
    "\n",
    "gamma_array = (alpha_array - theta_array)*360/2/np.pi    #gamma is the angle through which the stepper steps to get to the point.\n",
    "\n",
    "#Now work on step array\n",
    "gamma_array = gamma_array - gamma_array[0]    #start at first angle\n",
    "total_step_array = gamma_array*200/360    #convert to total steps.\n",
    "total_step_array = np.round(total_step_array)  #round to integers.\n",
    "\n",
    "step_array[0] = 0\n",
    "for i in range(1,array_size):\n",
    "    step_array[i] = total_step_array[i] - total_step_array[i-1]   #takes delta between total step values.\n",
    "\n",
    "\n",
    "step_array = step_array.astype(int)  #here's the step array to send to machine.\n",
    "\n",
    "#Now work on angle array, for servomotor arm.\n",
    "\n",
    "angle_array = np.arcsin(y_1_array/R)*(360/2/np.pi)    # servo angle absed on calculated intersection of two circles.\n",
    "angle_array = np.round(angle_array)\n",
    "\n",
    "angle_array = angle_array.astype(int)  #here's the step array to send to machine.\n",
    "\n",
    "for ind_1 in range(array_size):\n",
    "    string_to_send = \"255, \"\n",
    "    string_to_send += str(step_array[ind_1])\n",
    "    string_to_send += \" ,254, \"\n",
    "    string_to_send += str(angle_array[ind_1])\n",
    "    ser.write(string_to_send.encode())\n",
    "    time.sleep(2)\n",
    "    print('string_to_send, number', ind_1,\":\",string_to_send)\n",
    "    \n",
    "ser.close()\n",
    "\n",
    "#print(x_array)\n",
    "# print(y_array)\n",
    "# print(r_array)\n",
    "# print(theta_array)\n",
    "# print(x_1_array)\n",
    "# pri\n",
    "# nt(y_1_array)\n",
    "# print(gamma_array)\n",
    "# print(step_array)\n"
   ]
  },
  {
   "cell_type": "markdown",
   "metadata": {
    "collapsed": false
   },
   "source": [
    "Here is the line plotted by the code above.  Some wiggles for small y-values, but mostly corrected.\n",
    "\n",
    "<img src=\"./x=const_corr.jpg\" width = \"400\" />\n",
    "\n",
    "The plotting takes two seconds per point.  I have put generous pauses almost everywhere in the code for the machine.  The next steps could include working out the timing to speed things up.  Or not."
   ]
  },
  {
   "cell_type": "code",
   "execution_count": null,
   "metadata": {
    "collapsed": true
   },
   "outputs": [],
   "source": []
  }
 ],
 "metadata": {
  "kernelspec": {
   "display_name": "Python 3",
   "language": "python",
   "name": "python3"
  },
  "language_info": {
   "codemirror_mode": {
    "name": "ipython",
    "version": 3
   },
   "file_extension": ".py",
   "mimetype": "text/x-python",
   "name": "python",
   "nbconvert_exporter": "python",
   "pygments_lexer": "ipython3",
   "version": "3.5.1"
  }
 },
 "nbformat": 4,
 "nbformat_minor": 0
}
