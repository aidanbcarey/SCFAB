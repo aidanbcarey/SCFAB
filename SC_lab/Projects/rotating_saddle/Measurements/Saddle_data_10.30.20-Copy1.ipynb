{
 "cells": [
  {
   "cell_type": "code",
   "execution_count": null,
   "metadata": {
    "collapsed": false
   },
   "outputs": [],
   "source": [
    "import numpy as np\n",
    "import matplotlib.pyplot as plt\n",
    "data_points_2 = np.array([2,1.5,2,1,14,17,30,9,22,30,18,30,30,30,27,8,9,15,17,17,30.1,15,30,30,16,11,26,26,14,11,14,8,4,7,6,5])\n",
    "time_2 = np.array([1.16, 1.16, 1.16, 1.16, 1.36, 1.36, 1.36, 1.36, 1.45, 1.45, 1.45, 1.45, 1.54, 1.54, 1.54, 1.54, 1.67, 1.67, 1.67, 1.67, 1.77, 1.77, 1.77, 1.77, \n",
    "                 1.82, 1.82, 1.82, 1.82, 1.92, 1.92, 1.92, 1.92, 2.3, 2.3, 2.3, 2.3])\n",
    "\n",
    "data_points_1 = np.array([11,3,5,2,3,30,30,30,30,30,18,30,30,30,30,30,30,30,30,30,22,17,30,8,12,12,8,8,30,7,30,30,7,18,\n",
    "                          30,18,21,9,24,9,20,28,13,9,7,6,30,12,30,18,30,30,30,30])\n",
    "time_1 = np.array([1.2, 1.2, 1.2, 1.2, 1.2, 1.42, 1.42, 1.42, 1.42, 1.56, 1.56, 1.56, 1.56, 1.66, 1.66, 1.66, 1.66, 1.81, 1.81, 1.81, 1.81, \n",
    "                   1.93, 1.93, 1.93, 1.93, 1.93, 2.06, 2.06, 2.06, 2.06, 2.16, 2.16, 2.16, 2.16, 2.26, 2.26, 2.26, 2.26, \n",
    "                   2.38, 2.38, 2.38, 2.38, 2.50, 2.50, 2.50, 2.50, 1.75, 1.75, 1.75, 1.75, 1.62, 1.62, 1.62,1.62])\n",
    " \n",
    "\n",
    "fig = plt.figure()\n",
    "#ax = plt.subplot(111)\n",
    "plt.title('Blue=old, Red=new(more stable)')\n",
    "plt.xlabel('Rotation speed (RPS)')\n",
    "plt.ylabel('Trapping time (s)')\n",
    "plt.plot(time_1, data_points_1, 'ro',label='no. 2')\n",
    "plt.plot(time_2, data_points_2, 'bo', label='no. 1')\n",
    "#plt.legend()\n",
    "#ax.legend(loc='upper center', bbox_to_anchor=(0.5, -0.05), shadow=True, ncol=2)\n",
    "plt.show()\n"
   ]
  },
  {
   "cell_type": "code",
   "execution_count": 25,
   "metadata": {
    "collapsed": false
   },
   "outputs": [
    {
     "data": {
      "text/plain": [
       "(54, 54)"
      ]
     },
     "execution_count": 25,
     "metadata": {},
     "output_type": "execute_result"
    }
   ],
   "source": [
    "time_1.size, data_points_1.size"
   ]
  },
  {
   "cell_type": "code",
   "execution_count": null,
   "metadata": {
    "collapsed": true
   },
   "outputs": [],
   "source": []
  },
  {
   "cell_type": "code",
   "execution_count": null,
   "metadata": {
    "collapsed": true
   },
   "outputs": [],
   "source": []
  }
 ],
 "metadata": {
  "kernelspec": {
   "display_name": "Python 3",
   "language": "python",
   "name": "python3"
  },
  "language_info": {
   "codemirror_mode": {
    "name": "ipython",
    "version": 3
   },
   "file_extension": ".py",
   "mimetype": "text/x-python",
   "name": "python",
   "nbconvert_exporter": "python",
   "pygments_lexer": "ipython3",
   "version": "3.5.1"
  }
 },
 "nbformat": 4,
 "nbformat_minor": 0
}
