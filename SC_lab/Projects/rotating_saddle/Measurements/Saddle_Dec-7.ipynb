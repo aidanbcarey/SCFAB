{
 "cells": [
  {
   "cell_type": "code",
   "execution_count": null,
   "metadata": {
    "collapsed": false
   },
   "outputs": [],
   "source": [
    "import numpy as np\n",
    "import matplotlib.pyplot as plt\n",
    "\n",
    "freq_1 = np.array([1.02,1.02,11.49])\n",
    "data_points_1 = np.array([1,1,15,34])\n",
    " \n",
    "data_points_2 = np.array([2,2,30,11,38,8])\n",
    "\n",
    "freq_2 = np.array([1.1,37,3.11,3.11,3.11])\n",
    " \n",
    "fig = plt.figure()\n",
    "#ax = plt.subplot(111)\n",
    "plt.title('vv')\n",
    "plt.xlabel('Rotation speed (RPS)')\n",
    "plt.ylabel('Trapping time (s)')\n",
    "plt.plot(freq_1, data_points_1, 'ro')\n",
    "plt.plot(freq_2, data_points_2, 'bo')\n",
    "#plt.plot(freq_3, data_points_3, 'yo')\n",
    "\n",
    "#plt.legend()\n",
    "#ax.legend(loc='upper center', bbox_to_anchor=(0.5, -0.05), shadow=True, ncol=2)\n",
    "plt.show()\n",
    "#data_points_1\n",
    "time_3.size, data_points_3.size"
   ]
  }
 ],
 "metadata": {
  "kernelspec": {
   "display_name": "Python 3",
   "language": "python",
   "name": "python3"
  },
  "language_info": {
   "codemirror_mode": {
    "name": "ipython",
    "version": 3
   },
   "file_extension": ".py",
   "mimetype": "text/x-python",
   "name": "python",
   "nbconvert_exporter": "python",
   "pygments_lexer": "ipython3",
   "version": "3.5.1"
  }
 },
 "nbformat": 4,
 "nbformat_minor": 0
}
