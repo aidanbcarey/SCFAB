{
 "cells": [
  {
   "cell_type": "code",
   "execution_count": 14,
   "metadata": {},
   "outputs": [
    {
     "data": {
      "image/png": "[encoded data removed]",
      "text/plain": [
       "<Figure size 864x576 with 1 Axes>"
      ]
     },
     "metadata": {
      "needs_background": "light"
     },
     "output_type": "display_data"
    }
   ],
   "source": [
    "import numpy as np\n",
    "import matplotlib.pyplot as plt\n",
    "\n",
    "#Data for first wood saddle, slightly positive curvature overall. 19mm plastic ball.\n",
    "rps_1 = np.array([0.90,0.97,1.13,1.19,1.28,1.32,1.43,1.56,1.66,1.83,2.04,2.49,3.02,3.63])\n",
    "times_1 = np.array([[1.2,1.4,1.1,1.1,1.1],\n",
    "                   [1.1,0.9,1.1,1.1,1.1],\n",
    "                   [1.5,1.5,2.0,1.7,1.7],\n",
    "                   [1.7,3.6,1.7,2.1,2.0],\n",
    "                   [6.2,7.1,6.3,6.5,9.6],\n",
    "                   [8.6,7.2,6.7,6.7,8.2],\n",
    "                   [10.4,10.3,9.6,9.2,9.3],\n",
    "                   [10.3,8.7,8.8,8.9,7.6],\n",
    "                   [7.0,10.7,8.2,10.9,7.7],\n",
    "                   [9.0,6.5,8.5,8.2,6.9],\n",
    "                   [8.6,7.7,6.3,8.5,6.5],\n",
    "                   [11.0,8.9,6.4,5.4,6.9],\n",
    "                   [7.6,4.8,5.3,6.2,6.1],\n",
    "                   [5.3,5.3,5.7,5.2,6.9]])\n",
    "\n",
    "mean_times_1 = np.mean(times_1, axis = 1)\n",
    "error_bars_1 = np.std(times_1, axis = 1)/np.sqrt(5)\n",
    "#mean_times_1\n",
    "\n",
    "#Data for second wood saddle, slightly negative curvature overall. 19mm plastic ball.\n",
    "rps_2 = np.array([0.73,0.87,1.07,1.14,1.22,1.35,1.44,1.59,1.69,1.82,1.96,2.22,2.52,3.02,3.50])\n",
    "times_2 = np.array([[0.93,1.1,0.93,0.99,0.99],\n",
    "                   [1.1,0.86,0.93,1.4,0.80],\n",
    "                   [1.7,1.2,1.2,2.1,1.8],\n",
    "                   [1.1,1.2,1.9,1.3,1.8],\n",
    "                   [2.3,1.7,2.4,1.9,1.6],\n",
    "                   [6.5,8.0,7.2,8.4,8.6],\n",
    "                   [8.0,9.2,8.9,9.7,8.6],\n",
    "                   [9.5,6.9,8.5,8.4,7.9],\n",
    "                   [7.3,7.0,8.5,8.9,8.5],\n",
    "                   [9.3,8.0,8.9,7.7,8.8],\n",
    "                   [7.0,7.3,6.0,8.2,5.8],\n",
    "                   [6.9,5.3,5.8,6.1,4.8],\n",
    "                   [4.9,3.5,5.0,4.8,4.9],\n",
    "                   [5.4,6.1,4.7,5.0,4.9],\n",
    "                   [5.6,4.4,5.9,5.1,5.2]])\n",
    "\n",
    "mean_times_2 = np.mean(times_2, axis = 1)\n",
    "error_bars_2 = np.std(times_2, axis = 1)/np.sqrt(5)\n",
    "#mean_times_2\n",
    "\n",
    "#fig = plt.figure()\n",
    "fig = plt.figure(figsize=(12, 8))\n",
    "plt.title('Trapping time vs. frequency')\n",
    "plt.xlabel('Rotation speed (RPS)')\n",
    "plt.ylabel('Trapping time (s)')\n",
    "plt.errorbar(rps_1, mean_times_1,   yerr=error_bars_1, fmt='or')\n",
    "plt.errorbar(rps_2, mean_times_2,   yerr=error_bars_2, fmt='ob')\n",
    "#plt.plot(rps_1, mean_times_1, 'ro')\n",
    "\n",
    "plt.show()\n",
    "\n"
   ]
  },
  {
   "cell_type": "code",
   "execution_count": null,
   "metadata": {},
   "outputs": [],
   "source": []
  }
 ],
 "metadata": {
  "kernelspec": {
   "display_name": "Python 3",
   "language": "python",
   "name": "python3"
  },
  "language_info": {
   "codemirror_mode": {
    "name": "ipython",
    "version": 3
   },
   "file_extension": ".py",
   "mimetype": "text/x-python",
   "name": "python",
   "nbconvert_exporter": "python",
   "pygments_lexer": "ipython3",
   "version": "3.8.5"
  }
 },
 "nbformat": 4,
 "nbformat_minor": 4
}
