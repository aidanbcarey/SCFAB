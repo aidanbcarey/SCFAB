{
 "cells": [
  {
   "cell_type": "code",
   "execution_count": null,
   "metadata": {
    "collapsed": false
   },
   "outputs": [],
   "source": [
    "import numpy as np\n",
    "import matplotlib.pyplot as plt\n",
    "\n",
    "data_points_1 = np.array([6, 3, 5, 12, 19, 34, 9, 34, 26, 16, 15, 25, 7, 6, 7, 40, 13, 11, 11, 16, 11, 13, 17, 11, 8, 3, 3, 17, 20, 32, 15, 76, 7, 21, 13])\n",
    "time_1 = np.array([1.21, 1.21, 1.21, 1.54, 1.54, 1.54, 1.72, 1.72, 1.72, 1.80, 1.80, 1.80, 2.92, 2.92, 2.92, 2.02, 2.02, 2.02, 2.22, 2.22, 2.22, 1.40, 1.40, 1.40, \n",
    "                   1.25, 1.25, 1.25, 1.57, 1.57, 1.57, 2.50, 2.50, 2.50, 2.78, 2.78])\n",
    " \n",
    "data_points_2 = np.array([2,2,1,19,8,9,6,18,22,23,8,24,50,16,13,24,26,9,19,12,9,9,24,36,4,4,3,3,5,47])\n",
    "time_2 = np.array([1.17, 1.17, 1.17, 1.29, 1.29, 1.29, 1.40, 1.40, 1.40, 1.53, 1.53, 1.53, 1.64, 1.64, 1.64, 1.80, 1.80, 1.80, \n",
    "                   1.92, 1.92, 1.92, 2.06, 2.06, 2.06, 2.20, 2.20, 2.20, 2.30,2.30, 2.30])\n",
    " \n",
    "data_points_3 = np.array([2,1,1,4,6,6,7,3,28,19,26,11,12,11,26,22,28,23,12,44,19,28,29,23,29,12,26,10,21,16,6,38,31,8,7,10])\n",
    "time_3 = np.array([1.10, 1.10, 1.10, 1.26, 1.26, 1.26, 1.28, 1.28, 1.28, 1.32, 1.32, 1.32, 1.42, 1.42, 1.42, 1.54, 1.54, 1.54, 1.64, 1.64, 1.64, 1.77, 1.77, 1.77, \n",
    "                   1.91, 1.91, 1.91, 2.00, 2.00, 2.00, 2.21, 2.21, 2.21, 2.39, 2.39, 2.39])\n",
    "\n",
    "fig = plt.figure()\n",
    "#ax = plt.subplot(111)\n",
    "plt.title('red - 3 bearings, blue - better leveling, yellow - sanded')\n",
    "plt.xlabel('Rotation speed (RPS)')\n",
    "plt.ylabel('Trapping time (s)')\n",
    "plt.plot(time_1, data_points_1, 'ro')\n",
    "plt.plot(time_2, data_points_2, 'bo')\n",
    "plt.plot(time_3, data_points_3, 'yo')\n",
    "\n",
    "#plt.legend()\n",
    "#ax.legend(loc='upper center', bbox_to_anchor=(0.5, -0.05), shadow=True, ncol=2)\n",
    "plt.show()\n",
    "#data_points_1\n",
    "time_3.size, data_points_3.size"
   ]
  },
  {
   "cell_type": "code",
   "execution_count": 7,
   "metadata": {
    "collapsed": false
   },
   "outputs": [
    {
     "data": {
      "text/plain": [
       "(35, 35)"
      ]
     },
     "execution_count": 7,
     "metadata": {},
     "output_type": "execute_result"
    }
   ],
   "source": [
    "time_1.size, data_points_1.size"
   ]
  },
  {
   "cell_type": "code",
   "execution_count": null,
   "metadata": {
    "collapsed": true
   },
   "outputs": [],
   "source": []
  },
  {
   "cell_type": "code",
   "execution_count": null,
   "metadata": {
    "collapsed": true
   },
   "outputs": [],
   "source": []
  }
 ],
 "metadata": {
  "kernelspec": {
   "display_name": "Python 3",
   "language": "python",
   "name": "python3"
  },
  "language_info": {
   "codemirror_mode": {
    "name": "ipython",
    "version": 3
   },
   "file_extension": ".py",
   "mimetype": "text/x-python",
   "name": "python",
   "nbconvert_exporter": "python",
   "pygments_lexer": "ipython3",
   "version": "3.5.1"
  }
 },
 "nbformat": 4,
 "nbformat_minor": 0
}
