{
 "cells": [
  {
   "cell_type": "code",
   "execution_count": null,
   "metadata": {
    "collapsed": false
   },
   "outputs": [],
   "source": [
    "import numpy as np\n",
    "import matplotlib.pyplot as plt\n",
    "\n",
    "freq_1 = np.array([1.02,1.02,1.02,1.2,1.2,1.2,1.39,1.39,1.39,1.49,1.49,1.49,1.5,1.51,1.51,1.5,1.52,1.45,1.45,1.45,1.55,1.53,1.62,1.62,1.64,\n",
    "                          1.75,1.75,1.75,1.94,1.94,1.94,1.52,1.56,1.51,1.51,1.45,1.45,1.45,1.41,1.41,1.45,1.41,1.41,1.42,1.47,1.55,1.54,1.49,1.5,1.48,\n",
    "                         1.59,1.49,1.74,1.74,1.74,1.86,1.86,1.9,2.1,2.1,2.1,1.52,1.49])\n",
    "data_points_1 = np.array([1,1,1,2,1,1,6,9,3,4,20,15,44,23,31,30,60,23,12,6,24,16,16,25,14,23,17,27,16,11,12,11,15,38,43,39,15,35,29,11,19,10,6,18,19,17,19,54,10,17,\n",
    "                  32,60,28,13,14,13,18,15,6,10,12,15,34])\n",
    " \n",
    "data_points_2 = np.array([2,2,2,1,1,4,23,13,12,10,20,21,40,20,29,32,55,12,12,\n",
    "    24,18,29,26,12,25,8,16,30,51,23,8,10,25,4,29,7,\n",
    "    18,6,9,5,8,23,24,21,31,26,10,30,11,38,8])\n",
    "\n",
    "freq_2 = np.array([1.1,1.1,1.1,1.27,1.27,1.27,1.4,1.4,1.4,1.46,1.46,1.46,1.5,1.54,1.53,1.61,1.6,1.6,1.6,\n",
    "1.66,1.64,1.64,1.72,1.72,1.72,1.82,1.82,1.86,1.84,1.85,2,2,2,2.18,2.18,2.18,\n",
    "2.16,2.36,2.36,2.36,2.36,1.52,1.52,1.5,1.5,1.38,1.37,1.37,3.11,3.11,3.11])\n",
    " \n",
    "fig = plt.figure()\n",
    "#ax = plt.subplot(111)\n",
    "plt.title('red - off centered 1.5mm.  Blue - on center')\n",
    "plt.xlabel('Rotation speed (RPS)')\n",
    "plt.ylabel('Trapping time (s)')\n",
    "plt.plot(freq_1, data_points_1, 'ro')\n",
    "plt.plot(freq_2, data_points_2, 'bo')\n",
    "#plt.plot(freq_3, data_points_3, 'yo')\n",
    "\n",
    "#plt.legend()\n",
    "#ax.legend(loc='upper center', bbox_to_anchor=(0.5, -0.05), shadow=True, ncol=2)\n",
    "plt.show()\n",
    "#data_points_1\n",
    "time_3.size, data_points_3.size"
   ]
  },
  {
   "cell_type": "markdown",
   "metadata": {
    "collapsed": false
   },
   "source": []
  },
  {
   "cell_type": "code",
   "execution_count": null,
   "metadata": {
    "collapsed": true
   },
   "outputs": [],
   "source": []
  },
  {
   "cell_type": "code",
   "execution_count": null,
   "metadata": {
    "collapsed": true
   },
   "outputs": [],
   "source": []
  }
 ],
 "metadata": {
  "kernelspec": {
   "display_name": "Python 3",
   "language": "python",
   "name": "python3"
  },
  "language_info": {
   "codemirror_mode": {
    "name": "ipython",
    "version": 3
   },
   "file_extension": ".py",
   "mimetype": "text/x-python",
   "name": "python",
   "nbconvert_exporter": "python",
   "pygments_lexer": "ipython3",
   "version": "3.5.1"
  }
 },
 "nbformat": 4,
 "nbformat_minor": 0
}
