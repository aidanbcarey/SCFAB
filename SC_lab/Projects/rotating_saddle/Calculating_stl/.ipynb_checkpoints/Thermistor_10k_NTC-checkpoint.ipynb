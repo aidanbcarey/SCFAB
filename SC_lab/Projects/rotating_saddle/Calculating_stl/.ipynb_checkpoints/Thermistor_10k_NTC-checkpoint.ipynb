{
 "cells": [
  {
   "cell_type": "code",
   "execution_count": null,
   "metadata": {
    "collapsed": false
   },
   "outputs": [],
   "source": [
    "import numpy as np\n",
    "import matplotlib.pyplot as plt\n",
    "\n",
    "y = np.array([-40.0,-20.0,0.0,20.0,40.0,60.0,80.0,100.0,120.0,140.0])\n",
    "x = np.array([332094.0, 96358.0,32554.0, 12488.0,5330.0,2490.0, 1256.0, 677.3, 386.6,231.9])\n",
    "t=y[2:5]\n",
    "R=x[2:5]\n",
    "\n",
    "z = np.polyfit(R,t,5)\n",
    "p = np.poly1d(z)\n",
    "fit_x = linspace(2000,35000)\n",
    "fit = p(x)"
   ]
  },
  {
   "cell_type": "code",
   "execution_count": null,
   "metadata": {
    "collapsed": false
   },
   "outputs": [],
   "source": [
    "plt.plot(R,t)\n",
    "plt.show()"
   ]
  },
  {
   "cell_type": "code",
   "execution_count": null,
   "metadata": {
    "collapsed": false
   },
   "outputs": [],
   "source": []
  },
  {
   "cell_type": "code",
   "execution_count": null,
   "metadata": {
    "collapsed": true
   },
   "outputs": [],
   "source": []
  }
 ],
 "metadata": {
  "kernelspec": {
   "display_name": "Python 3",
   "language": "python",
   "name": "python3"
  },
  "language_info": {
   "codemirror_mode": {
    "name": "ipython",
    "version": 3
   },
   "file_extension": ".py",
   "mimetype": "text/x-python",
   "name": "python",
   "nbconvert_exporter": "python",
   "pygments_lexer": "ipython3",
   "version": "3.5.1"
  }
 },
 "nbformat": 4,
 "nbformat_minor": 0
}
